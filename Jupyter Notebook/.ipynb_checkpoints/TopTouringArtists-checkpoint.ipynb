{
 "cells": [
  {
   "cell_type": "code",
   "execution_count": 2,
   "metadata": {},
   "outputs": [],
   "source": [
    "import requests\n",
    "import pandas as pd\n",
    "from bs4 import BeautifulSoup as bs"
   ]
  },
  {
   "cell_type": "code",
   "execution_count": 3,
   "metadata": {},
   "outputs": [],
   "source": [
    "# URL to scrape the data\n",
    "links = []\n",
    "artists = []\n",
    "base_url = 'https://247wallst.com/special-report/2019/01/10/100-most-popular-musicians-on-tour-in-2019/'\n",
    "for i in range(2, 12):\n",
    "    links.append(base_url + str(i))\n",
    "\n",
    "for url in links:\n",
    "    response = requests.get(url)\n",
    "    soup = bs(response.text, 'html.parser')\n",
    "    \n",
    "    divs = soup.find_all('div', class_='pubentry-wrapper')\n",
    "    for div in divs:\n",
    "        artist_info = {}\n",
    "        title_span = div.find('span', class_='title-bullet')\n",
    "        artists_id_name = title_span.find('strong').text\n",
    "        artist_id = artists_id_name.split(\".\")[0]\n",
    "        artist_info['artist_id'] = artist_id\n",
    "        artist_name = artists_id_name.split(\".\")[1]\n",
    "        artist_info['artist_name'] = artist_name\n",
    "        \n",
    "        bullet_spans = div.find_all('span', class_='value-bullet')\n",
    "        no_of_shows = bullet_spans[0].text.strip()\n",
    "        no_of_shows = no_of_shows.split(\":\")[1]\n",
    "        artist_info['no_of_shows'] = no_of_shows\n",
    "        followers = bullet_spans[1].text.strip()\n",
    "        followers = followers.split(\":\")[1]\n",
    "        artist_info['followers'] = followers\n",
    "        recent_albums = bullet_spans[2].text.strip()\n",
    "        recent_albums = recent_albums.split(\":\")[1]\n",
    "        artist_info['recent_albums'] = recent_albums\n",
    "        \n",
    "        artists.append(artist_info)"
   ]
  },
  {
   "cell_type": "code",
   "execution_count": 1,
   "metadata": {},
   "outputs": [
    {
     "ename": "NameError",
     "evalue": "name 'pd' is not defined",
     "output_type": "error",
     "traceback": [
      "\u001b[1;31m---------------------------------------------------------------------------\u001b[0m",
      "\u001b[1;31mNameError\u001b[0m                                 Traceback (most recent call last)",
      "\u001b[1;32m<ipython-input-1-14d4eed18ebd>\u001b[0m in \u001b[0;36m<module>\u001b[1;34m\u001b[0m\n\u001b[1;32m----> 1\u001b[1;33m \u001b[0martists_df\u001b[0m \u001b[1;33m=\u001b[0m \u001b[0mpd\u001b[0m\u001b[1;33m.\u001b[0m\u001b[0mDataFrame\u001b[0m\u001b[1;33m(\u001b[0m\u001b[0martists\u001b[0m\u001b[1;33m)\u001b[0m\u001b[1;33m\u001b[0m\u001b[1;33m\u001b[0m\u001b[0m\n\u001b[0m\u001b[0;32m      2\u001b[0m \u001b[0martists_df\u001b[0m \u001b[1;33m=\u001b[0m \u001b[0martists_df\u001b[0m\u001b[1;33m.\u001b[0m\u001b[0mset_index\u001b[0m\u001b[1;33m(\u001b[0m\u001b[1;34m\"artist_name\"\u001b[0m\u001b[1;33m)\u001b[0m\u001b[1;33m\u001b[0m\u001b[1;33m\u001b[0m\u001b[0m\n\u001b[0;32m      3\u001b[0m \u001b[0martists_df\u001b[0m\u001b[1;33m.\u001b[0m\u001b[0mhead\u001b[0m\u001b[1;33m(\u001b[0m\u001b[1;33m)\u001b[0m\u001b[1;33m\u001b[0m\u001b[1;33m\u001b[0m\u001b[0m\n",
      "\u001b[1;31mNameError\u001b[0m: name 'pd' is not defined"
     ]
    }
   ],
   "source": [
    "artists_df = pd.DataFrame(artists)\n",
    "artists_df = artists_df.set_index(\"artist_name\")\n",
    "artists_df.head()"
   ]
  },
  {
   "cell_type": "code",
   "execution_count": null,
   "metadata": {},
   "outputs": [],
   "source": []
  }
 ],
 "metadata": {
  "kernelspec": {
   "display_name": "Python 3",
   "language": "python",
   "name": "python3"
  },
  "language_info": {
   "codemirror_mode": {
    "name": "ipython",
    "version": 3
   },
   "file_extension": ".py",
   "mimetype": "text/x-python",
   "name": "python",
   "nbconvert_exporter": "python",
   "pygments_lexer": "ipython3",
   "version": "3.7.1"
  }
 },
 "nbformat": 4,
 "nbformat_minor": 2
}
